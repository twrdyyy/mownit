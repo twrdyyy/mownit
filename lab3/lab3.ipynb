{
 "cells": [
  {
   "cell_type": "code",
   "execution_count": 1,
   "metadata": {
    "ExecuteTime": {
     "end_time": "2020-03-16T11:16:03.807616Z",
     "start_time": "2020-03-16T11:16:03.562571Z"
    }
   },
   "outputs": [],
   "source": [
    "import numpy as np"
   ]
  },
  {
   "cell_type": "code",
   "execution_count": 115,
   "metadata": {
    "ExecuteTime": {
     "end_time": "2020-03-16T13:27:13.081437Z",
     "start_time": "2020-03-16T13:27:13.057877Z"
    }
   },
   "outputs": [],
   "source": [
    "def bisection(a, b, fun, eps=1e-14):\n",
    "    \n",
    "    counter = 0\n",
    "    x_0 = a\n",
    "    \n",
    "    while abs(a-b) > eps:\n",
    "        x_0 = (a + b) / 2\n",
    "        a = x_0 if fun(b)*fun(x_0) < 0 else a\n",
    "        b = x_0 if fun(a)*fun(x_0) < 0 else b\n",
    "        counter += 1\n",
    "        if counter > 100000000:\n",
    "            break\n",
    "        \n",
    "    return x_0, counter"
   ]
  },
  {
   "cell_type": "code",
   "execution_count": 116,
   "metadata": {
    "ExecuteTime": {
     "end_time": "2020-03-16T13:27:15.609790Z",
     "start_time": "2020-03-16T13:27:15.586974Z"
    }
   },
   "outputs": [],
   "source": [
    "\n",
    "def d_f(x, fun, eps):\n",
    "    return (fun(x+eps) - fun(x)) / eps \n",
    "\n",
    "def newton(a, b, fun, eps=1e-5):\n",
    "    \n",
    "    try:\n",
    "        counter = 1\n",
    "        x_0 = a\n",
    "        d_x_0 = d_f(x_0, fun, eps)\n",
    "    except:\n",
    "        counter = 1\n",
    "        x_0 = b\n",
    "        d_x_0 = d_f(x_0, fun, eps)\n",
    "        \n",
    "    if d_x_0 == 0:\n",
    "        return x_0, 1\n",
    "    x_1 = x_0 - fun(x_0) / d_x_0\n",
    "    \n",
    "    while abs(x_0 - x_1) > eps and abs(fun(x_0)) < eps:\n",
    "        if d_x_0 == 0:\n",
    "            return x_0, counter      \n",
    "        d_x_0 = d_f(x_0, fun, eps)\n",
    "        x_1 = x_0 - fun(x_0) / d_f(x_0, fun, eps)\n",
    "        x_0 = x_1\n",
    "        counter += 1\n",
    "        \n",
    "    return x_1, counter"
   ]
  },
  {
   "cell_type": "code",
   "execution_count": 117,
   "metadata": {
    "ExecuteTime": {
     "end_time": "2020-03-16T13:27:16.610412Z",
     "start_time": "2020-03-16T13:27:16.584722Z"
    }
   },
   "outputs": [],
   "source": [
    "def euler(a, b, fun, eps):\n",
    "    \n",
    "    x0 = a\n",
    "    x1 = b\n",
    "    \n",
    "    x1 = (fun(x1) * x0 - fun(x0) * x1) / (fun(x1) - fun(x0))\n",
    "    counter = 1\n",
    "    \n",
    "    while abs(x0 - x1) > eps:\n",
    "        x0, x1 = x1, (fun(x1) * x0 - fun(x0) * x1) / (fun(x1) - fun(x0))\n",
    "        counter += 1\n",
    "        \n",
    "    return x1, counter\n",
    "    "
   ]
  },
  {
   "cell_type": "markdown",
   "metadata": {},
   "source": [
    "# Test functions"
   ]
  },
  {
   "cell_type": "code",
   "execution_count": 118,
   "metadata": {
    "ExecuteTime": {
     "end_time": "2020-03-16T13:27:17.738454Z",
     "start_time": "2020-03-16T13:27:17.720777Z"
    }
   },
   "outputs": [],
   "source": [
    "\n",
    "def f1(x):\n",
    "    return np.cos(x)*np.cosh(x) - 1\n",
    "\n",
    "def f2(x):\n",
    "    return 1/x - np.tan(x)\n",
    "\n",
    "def f3(x):\n",
    "    return np.power(2, np.longdouble(-x)) + np.power(np.e, np.longdouble(x)) + 2*np.cos(x)\n"
   ]
  },
  {
   "cell_type": "markdown",
   "metadata": {},
   "source": [
    "Let's see if everything works good"
   ]
  },
  {
   "cell_type": "code",
   "execution_count": null,
   "metadata": {
    "ExecuteTime": {
     "start_time": "2020-03-16T13:27:18.781Z"
    }
   },
   "outputs": [
    {
     "name": "stdout",
     "output_type": "stream",
     "text": [
      "For fun: f1, interval: [4.71238898038469, 6.283185307179586] and eps: 1e-07, x_0: 4.730040713775952, counter: 24\n",
      "For fun: f1, interval: [4.71238898038469, 6.283185307179586] and eps: 1e-14, x_0: 4.730040744862709, counter: 48\n",
      "For fun: f1, interval: [4.71238898038469, 6.283185307179586] and eps: 1e-33, x_0: 4.730040744862704, counter: 100000001\n",
      "For fun: f2, interval: [1e-14, 1.5707963267948966] and eps: 1e-07, x_0: 0.860333555568749, counter: 24\n",
      "For fun: f2, interval: [1e-14, 1.5707963267948966] and eps: 1e-14, x_0: 0.860333589019378, counter: 48\n"
     ]
    }
   ],
   "source": [
    "\n",
    "funcs = [[f1, 3/2*np.pi, 2*np.pi], [f2, 1e-14, np.pi/2], [f3, 1,3]]\n",
    "epss = [1e-7, 1e-14, 1e-33]\n",
    "\n",
    "for fun, a, b in funcs:\n",
    "    for eps in epss:\n",
    "        x_0, ctr = bisection(a=a, b=b, fun=fun, eps=eps)\n",
    "        print(f\"For fun: {fun.__name__}, interval: [{a}, {b}] and eps: {eps}, x_0: {x_0}, counter: {ctr}\")    "
   ]
  },
  {
   "cell_type": "code",
   "execution_count": null,
   "metadata": {
    "ExecuteTime": {
     "start_time": "2020-03-16T13:27:20.075Z"
    }
   },
   "outputs": [],
   "source": [
    "funcs = [[f1, 3/2*np.pi, 2*np.pi], [f2, 1e-14, np.pi/2], [f3, 1,3]]\n",
    "epss = [1e-7, 1e-15, 1e-33]\n",
    "\n",
    "for fun, a, b in funcs:\n",
    "    for eps in epss:\n",
    "        x_0, ctr = newton(a=a, b=b, fun=fun, eps=eps)\n",
    "        print(f\"For fun: {fun.__name__}, interval: [{a}, {b}] and eps: {eps}, x_0: {x_0}, counter: {ctr}\")    "
   ]
  },
  {
   "cell_type": "code",
   "execution_count": null,
   "metadata": {
    "ExecuteTime": {
     "start_time": "2020-03-16T13:27:21.233Z"
    }
   },
   "outputs": [],
   "source": [
    "funcs = [[f1, 3/2*np.pi, 2*np.pi], [f2, 1e-14, np.pi/2], [f3, 1,3]]\n",
    "epss = [1e-7, 1e-15, 1e-33]\n",
    "\n",
    "for fun, a, b in funcs:\n",
    "    for eps in epss:\n",
    "        x_0, ctr = euler(a=a, b=b, fun=fun, eps=eps)\n",
    "        print(f\"For fun: {fun.__name__}, interval: [{a}, {b}] and eps: {eps}, x_0: {x_0}, counter: {ctr}\")    "
   ]
  },
  {
   "cell_type": "code",
   "execution_count": null,
   "metadata": {},
   "outputs": [],
   "source": []
  }
 ],
 "metadata": {
  "kernelspec": {
   "display_name": "Python 3",
   "language": "python",
   "name": "python3"
  },
  "language_info": {
   "codemirror_mode": {
    "name": "ipython",
    "version": 3
   },
   "file_extension": ".py",
   "mimetype": "text/x-python",
   "name": "python",
   "nbconvert_exporter": "python",
   "pygments_lexer": "ipython3",
   "version": "3.7.5"
  }
 },
 "nbformat": 4,
 "nbformat_minor": 2
}
